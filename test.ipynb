{
 "cells": [
  {
   "cell_type": "code",
   "execution_count": 22,
   "metadata": {},
   "outputs": [],
   "source": [
    "import mysql.connector\n",
    "from mysql.connector import errorcode\n",
    "import psycopg2\n",
    "from flask import Flask, request\n",
    "from flask_limiter import Limiter, util\n",
    "from hashlib import sha256\n",
    "import random\n",
    "import string\n",
    "import time\n",
    "import json\n",
    "import datetime "
   ]
  },
  {
   "cell_type": "code",
   "execution_count": 23,
   "metadata": {},
   "outputs": [],
   "source": [
    "cnx = psycopg2.connect(database=\"hehe\", \n",
    "                            user=\"koyeb-adm\", \n",
    "                            password=\"uq2lZvhI6FPR\", \n",
    "                            host=\"ep-soft-waterfall-48511697.eu-central-1.pg.koyeb.app\")\n",
    "cursor = cnx.cursor()\n",
    "cursor.execute(\"ROLLBACK\")\n",
    "cnx.commit()"
   ]
  },
  {
   "cell_type": "code",
   "execution_count": 24,
   "metadata": {},
   "outputs": [],
   "source": [
    "cursor.execute('''CREATE TABLE IF NOT EXISTS users ( \\\n",
    "          userId SERIAL PRIMARY KEY, \\\n",
    "          username VARCHAR(256) UNIQUE NOT NULL, \\\n",
    "          password VARCHAR(256) NOT NULL, \\\n",
    "          loggedIn SMALLINT DEFAULT 0, \\\n",
    "          loggedAt TIMESTAMP DEFAULT NULL); ''')\n",
    "        \n"
   ]
  },
  {
   "cell_type": "code",
   "execution_count": 25,
   "metadata": {},
   "outputs": [
    {
     "ename": "KeyboardInterrupt",
     "evalue": "",
     "output_type": "error",
     "traceback": [
      "\u001b[1;31m---------------------------------------------------------------------------\u001b[0m",
      "\u001b[1;31mKeyboardInterrupt\u001b[0m                         Traceback (most recent call last)",
      "Cell \u001b[1;32mIn[25], line 28\u001b[0m\n\u001b[0;32m     26\u001b[0m \u001b[38;5;28;01mfor\u001b[39;00m i \u001b[38;5;129;01min\u001b[39;00m \u001b[38;5;28mrange\u001b[39m(\u001b[38;5;241m0\u001b[39m, l, batch_size):\n\u001b[0;32m     27\u001b[0m     batch \u001b[38;5;241m=\u001b[39m users[i:i \u001b[38;5;241m+\u001b[39m batch_size]\n\u001b[1;32m---> 28\u001b[0m     \u001b[43mcursor\u001b[49m\u001b[38;5;241;43m.\u001b[39;49m\u001b[43mexecutemany\u001b[49m\u001b[43m(\u001b[49m\u001b[43madd_user\u001b[49m\u001b[43m,\u001b[49m\u001b[43m \u001b[49m\u001b[43mbatch\u001b[49m\u001b[43m)\u001b[49m\n\u001b[0;32m     29\u001b[0m     cnx\u001b[38;5;241m.\u001b[39mcommit()\n\u001b[0;32m     30\u001b[0m end_time \u001b[38;5;241m=\u001b[39m time\u001b[38;5;241m.\u001b[39mtime()\n",
      "File \u001b[1;32mc:\\Users\\anhda\\AppData\\Local\\Programs\\Python\\Python311\\Lib\\encodings\\utf_8.py:15\u001b[0m, in \u001b[0;36mdecode\u001b[1;34m(input, errors)\u001b[0m\n\u001b[0;32m     11\u001b[0m \u001b[38;5;66;03m### Codec APIs\u001b[39;00m\n\u001b[0;32m     13\u001b[0m encode \u001b[38;5;241m=\u001b[39m codecs\u001b[38;5;241m.\u001b[39mutf_8_encode\n\u001b[1;32m---> 15\u001b[0m \u001b[38;5;28;01mdef\u001b[39;00m \u001b[38;5;21mdecode\u001b[39m(\u001b[38;5;28minput\u001b[39m, errors\u001b[38;5;241m=\u001b[39m\u001b[38;5;124m'\u001b[39m\u001b[38;5;124mstrict\u001b[39m\u001b[38;5;124m'\u001b[39m):\n\u001b[0;32m     16\u001b[0m     \u001b[38;5;28;01mreturn\u001b[39;00m codecs\u001b[38;5;241m.\u001b[39mutf_8_decode(\u001b[38;5;28minput\u001b[39m, errors, \u001b[38;5;28;01mTrue\u001b[39;00m)\n\u001b[0;32m     18\u001b[0m \u001b[38;5;28;01mclass\u001b[39;00m \u001b[38;5;21;01mIncrementalEncoder\u001b[39;00m(codecs\u001b[38;5;241m.\u001b[39mIncrementalEncoder):\n",
      "\u001b[1;31mKeyboardInterrupt\u001b[0m: "
     ]
    }
   ],
   "source": [
    "usernames = set([])\n",
    "users = []\n",
    "add_user = (\"INSERT INTO users \"\n",
    "                \"(username, password) \"\n",
    "                \"VALUES ( %s, %s)\")\n",
    "cursor.execute(f\"SELECT COUNT(*) FROM users\")\n",
    "number = cursor.fetchone()\n",
    "# print(number)\n",
    "if number == (1000000,):\n",
    "    print('Already init') \n",
    "else:\n",
    "    while(len(usernames) < 10000):\n",
    "        username = ''.join((random.choice(string.ascii_lowercase) for x in range(6)))\n",
    "        usernames.add(username)\n",
    "        \n",
    "\n",
    "    for username in usernames:\n",
    "        password = sha256(''.join(str(random.randint(0, 9)) for i in range(6)).encode('utf-8')).hexdigest() \n",
    "        users.append((username, password))\n",
    "\n",
    "    # Disable autocommit\n",
    "    # cnx.autocommit = False\n",
    "    l = len(users)\n",
    "    batch_size = l//10\n",
    "    start_time = time.time()\n",
    "    for i in range(0, l, batch_size):\n",
    "        batch = users[i:i + batch_size]\n",
    "        cursor.executemany(add_user, batch)\n",
    "        cnx.commit()\n",
    "    end_time = time.time()\n",
    "\n",
    "    res = f\"Total insertion time: {end_time - start_time} seconds\"\n",
    "\n",
    "    # Re-enable autocommit\n",
    "    # cnx.autocommit = True"
   ]
  }
 ],
 "metadata": {
  "kernelspec": {
   "display_name": "Python 3",
   "language": "python",
   "name": "python3"
  },
  "language_info": {
   "codemirror_mode": {
    "name": "ipython",
    "version": 3
   },
   "file_extension": ".py",
   "mimetype": "text/x-python",
   "name": "python",
   "nbconvert_exporter": "python",
   "pygments_lexer": "ipython3",
   "version": "3.11.4"
  }
 },
 "nbformat": 4,
 "nbformat_minor": 2
}
