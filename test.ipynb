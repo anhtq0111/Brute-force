{
 "cells": [
  {
   "cell_type": "code",
   "execution_count": 36,
   "metadata": {},
   "outputs": [
    {
     "data": {
      "text/plain": [
       "'gxobrt'"
      ]
     },
     "execution_count": 36,
     "metadata": {},
     "output_type": "execute_result"
    }
   ],
   "source": [
    "import random\n",
    "import string\n",
    "\n",
    "''.join((random.choice(string.ascii_lowercase) for x in range(6)))"
   ]
  },
  {
   "cell_type": "code",
   "execution_count": 45,
   "metadata": {},
   "outputs": [
    {
     "data": {
      "text/plain": [
       "'616245'"
      ]
     },
     "execution_count": 45,
     "metadata": {},
     "output_type": "execute_result"
    }
   ],
   "source": [
    "random_string = ''.join(str(random.randint(0, 9)) for i in range(6))\n",
    "random_string"
   ]
  },
  {
   "cell_type": "code",
   "execution_count": 47,
   "metadata": {},
   "outputs": [
    {
     "name": "stdout",
     "output_type": "stream",
     "text": [
      "[('rhzfds', '678064'), ('qqjjvf', '555458'), ('bwfsud', '545464'), ('antksa', '500091'), ('mkkzjb', '625591'), ('eotqnf', '222252'), ('bxijpi', '605910'), ('pgzsbk', '583618'), ('piexra', '562131'), ('mktvur', '486517')]\n",
      "[('wghtyk', '056674'), ('tcrekd', '960405'), ('hjithe', '698634'), ('suivlp', '148404'), ('fxqpzp', '236287'), ('xgbfdu', '527531'), ('cdpkos', '838869'), ('yheplo', '747082'), ('shpbjp', '766529'), ('nxycza', '978316')]\n",
      "[('khtcqn', '322642'), ('jjunvz', '478752'), ('vahnkv', '840132'), ('cfiwfa', '627871'), ('ijofma', '322524'), ('ioitrr', '293633'), ('zqumwr', '966930'), ('vutgwo', '528936'), ('oiamtc', '176972'), ('bjmnfu', '094640')]\n",
      "[('qkmhnv', '981597'), ('cjbsly', '390720'), ('vmzbit', '136263'), ('fcpojq', '408283'), ('fveatz', '776640'), ('mxvgrk', '129082'), ('ydrchm', '417280'), ('qqjroq', '526533'), ('xjosqa', '225954'), ('yuueol', '787964')]\n",
      "[('qoqiir', '860713'), ('swaxce', '877376'), ('gsuinh', '760015'), ('kaclom', '344358'), ('xaaluz', '721010'), ('nkwhjz', '239959'), ('sppopq', '428791'), ('ghoplv', '718148'), ('qxavjd', '155686'), ('sdbeos', '926998')]\n",
      "[('ujkvqj', '367002'), ('uohfku', '573041'), ('ttyuay', '080951'), ('bqvpai', '610630'), ('islwdf', '467366'), ('jacujq', '045032'), ('rvjdrl', '100591'), ('plvuzl', '281682'), ('mulrcv', '803065'), ('xqimfe', '989431')]\n",
      "[('tnzber', '073152'), ('ynsljd', '326172'), ('bpurfz', '958782'), ('pcmtyf', '187872'), ('fzxhzo', '118383'), ('zazvjq', '433165'), ('hbvtdr', '257145'), ('znofor', '548234'), ('buemds', '120134'), ('izgzxq', '460122')]\n",
      "[('hntbit', '999259'), ('hnpqdn', '374888'), ('fxqqhw', '548915'), ('ibdjvn', '902016'), ('qsltzt', '520246'), ('ruisso', '408264'), ('phtgjg', '194225'), ('fofhtq', '349661'), ('jqoboq', '832147'), ('qpyxsm', '985456')]\n",
      "[('rgfbls', '802631'), ('etvpix', '292371'), ('lnonve', '693916'), ('qbzkrx', '298778'), ('xelqth', '839020'), ('mrlamn', '382653'), ('ctuzwf', '804465'), ('qknvaq', '108351'), ('ylpmsr', '041282'), ('dwwcnz', '668304')]\n",
      "[('tluqqf', '434945'), ('emqsqw', '541366'), ('mpsyhc', '383597'), ('sqbxnv', '895054'), ('kgzwqi', '060080'), ('mpceef', '932387'), ('yzgrpo', '581459'), ('lirnqb', '854407'), ('kqtgwm', '958179'), ('fccksp', '483010')]\n"
     ]
    }
   ],
   "source": [
    "users = []\n",
    "for i in range(100):\n",
    "    username = ''.join((random.choice(string.ascii_lowercase) for x in range(6)))\n",
    "    password = ''.join(str(random.randint(0, 9)) for i in range(6))\n",
    "    users.append((username, password))\n",
    "l = len(users)\n",
    "batch_size = l//10\n",
    "for i in range(0, len(users), batch_size):\n",
    "    batch = users[i:i + batch_size]\n",
    "    print(batch)"
   ]
  },
  {
   "cell_type": "code",
   "execution_count": 7,
   "metadata": {},
   "outputs": [],
   "source": [
    "from __future__ import print_function\n",
    "import mysql.connector\n",
    "from mysql.connector import errorcode\n",
    "\n",
    "from flask import Flask, request\n",
    "from flask_limiter import Limiter \n",
    "from hashlib import sha256\n",
    "import random\n",
    "import string\n",
    "import time\n",
    "import json"
   ]
  },
  {
   "cell_type": "code",
   "execution_count": 15,
   "metadata": {},
   "outputs": [
    {
     "name": "stdout",
     "output_type": "stream",
     "text": [
      "xkkcrf\n"
     ]
    }
   ],
   "source": [
    "cnx = mysql.connector.connect(user='root', password='QuocAnh24102001', database='hehe')\n",
    "cursor = cnx.cursor()\n",
    "cursor.execute(\"SELECT * FROM users WHERE username = 'xkkcrf'\")\n",
    "data = cursor.fetchone()\n",
    "if data != None:\n",
    "    userId, username, password, passw, loggedIn, loggedAt = data\n",
    "    print(username)\n",
    "\n",
    "else:\n",
    "    print('no')"
   ]
  },
  {
   "cell_type": "code",
   "execution_count": 10,
   "metadata": {},
   "outputs": [
    {
     "name": "stdout",
     "output_type": "stream",
     "text": [
      "Total insertion time: 0.01698923110961914 seconds\n"
     ]
    }
   ],
   "source": [
    "# idea \n",
    "hashed_arr = []\n",
    "for i in range(1000000):\n",
    "    str_i = str(i).rjust(6, '0')\n",
    "    hashed_arr.append(sha256(str_i.encode('utf-8')).hexdigest())\n",
    "start_time = time.time()\n",
    "hashed = '2fc49e276459565ff3be8254f40ea0c72b181d92112bdfc5498b00d55b95e348'\n",
    "hashed_arr.index(hashed)\n",
    "end_time = time.time()\n",
    "print(\"Total insertion time:\", end_time - start_time, \"seconds\")\n"
   ]
  }
 ],
 "metadata": {
  "kernelspec": {
   "display_name": "Python 3",
   "language": "python",
   "name": "python3"
  },
  "language_info": {
   "codemirror_mode": {
    "name": "ipython",
    "version": 3
   },
   "file_extension": ".py",
   "mimetype": "text/x-python",
   "name": "python",
   "nbconvert_exporter": "python",
   "pygments_lexer": "ipython3",
   "version": "3.11.4"
  }
 },
 "nbformat": 4,
 "nbformat_minor": 2
}
